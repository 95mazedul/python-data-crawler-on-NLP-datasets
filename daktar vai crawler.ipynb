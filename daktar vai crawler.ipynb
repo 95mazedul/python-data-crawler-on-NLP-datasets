{
 "cells": [
  {
   "cell_type": "markdown",
   "metadata": {},
   "source": [
    "# importing the beautifulsoup library and python requests "
   ]
  },
  {
   "cell_type": "code",
   "execution_count": 6,
   "metadata": {},
   "outputs": [],
   "source": [
    "from bs4 import BeautifulSoup\n",
    "import requests"
   ]
  },
  {
   "cell_type": "code",
   "execution_count": 7,
   "metadata": {},
   "outputs": [
    {
     "data": {
      "text/plain": [
       "37"
      ]
     },
     "execution_count": 7,
     "metadata": {},
     "output_type": "execute_result"
    }
   ],
   "source": [
    "import csv\n",
    "csv_file = open('Daktar_vai_qs_feed.csv', 'w', encoding=\"utf-8\")\n",
    "csv_writer = csv.writer(csv_file)\n",
    "csv_writer.writerow(['question', 'date', 'view_number','topic','answer'])\n",
    "\n",
    "excep_csv_file = open('gotException_file_Dakatarvai', 'w', encoding=\"utf-8\")\n",
    "excep_csv_writer = csv.writer(excep_csv_file)\n",
    "excep_csv_writer.writerow(['load_issue_question', 'load_issue_page'])"
   ]
  },
  {
   "cell_type": "markdown",
   "metadata": {},
   "source": []
  },
  {
   "cell_type": "markdown",
   "metadata": {},
   "source": [
    "Root Urls for the question page manuallt grabed"
   ]
  },
  {
   "cell_type": "code",
   "execution_count": 8,
   "metadata": {},
   "outputs": [],
   "source": [
    "URL= \"https://app.daktarshab.com/services/ask-a-doctor/all-questions/page/\""
   ]
  },
  {
   "cell_type": "markdown",
   "metadata": {},
   "source": [
    "# This portion is to check for one instance that the url is still live "
   ]
  },
  {
   "cell_type": "code",
   "execution_count": 5,
   "metadata": {},
   "outputs": [
    {
     "ename": "NameError",
     "evalue": "name 'page' is not defined",
     "output_type": "error",
     "traceback": [
      "\u001b[1;31m---------------------------------------------------------------------------\u001b[0m",
      "\u001b[1;31mNameError\u001b[0m                                 Traceback (most recent call last)",
      "\u001b[1;32m<ipython-input-5-0eb89093254e>\u001b[0m in \u001b[0;36m<module>\u001b[1;34m\u001b[0m\n\u001b[1;32m----> 1\u001b[1;33m \u001b[0mreq\u001b[0m\u001b[1;33m=\u001b[0m \u001b[0mrequests\u001b[0m\u001b[1;33m.\u001b[0m\u001b[0mget\u001b[0m\u001b[1;33m(\u001b[0m\u001b[0mURL\u001b[0m \u001b[1;33m+\u001b[0m \u001b[0mstr\u001b[0m\u001b[1;33m(\u001b[0m\u001b[0mpage\u001b[0m\u001b[1;33m)\u001b[0m\u001b[1;33m+\u001b[0m\u001b[1;34m'/'\u001b[0m\u001b[1;33m)\u001b[0m\u001b[1;33m\u001b[0m\u001b[1;33m\u001b[0m\u001b[0m\n\u001b[0m\u001b[0;32m      2\u001b[0m \u001b[0msoup\u001b[0m\u001b[1;33m=\u001b[0m\u001b[0mBeautifulSoup\u001b[0m\u001b[1;33m(\u001b[0m\u001b[0mreq\u001b[0m\u001b[1;33m.\u001b[0m\u001b[0mcontent\u001b[0m\u001b[1;33m,\u001b[0m\u001b[1;34m'html.parser'\u001b[0m\u001b[1;33m)\u001b[0m\u001b[1;33m\u001b[0m\u001b[1;33m\u001b[0m\u001b[0m\n\u001b[0;32m      3\u001b[0m \u001b[1;31m# print(soup.prettify())\u001b[0m\u001b[1;33m\u001b[0m\u001b[1;33m\u001b[0m\u001b[1;33m\u001b[0m\u001b[0m\n\u001b[0;32m      4\u001b[0m \u001b[0mcontainer_div\u001b[0m\u001b[1;33m=\u001b[0m\u001b[0msoup\u001b[0m\u001b[1;33m.\u001b[0m\u001b[0mfind_all\u001b[0m\u001b[1;33m(\u001b[0m\u001b[1;34m'div'\u001b[0m\u001b[1;33m,\u001b[0m\u001b[0mclass_\u001b[0m\u001b[1;33m=\u001b[0m\u001b[1;34m'panel panel-default'\u001b[0m\u001b[1;33m)\u001b[0m\u001b[1;33m\u001b[0m\u001b[1;33m\u001b[0m\u001b[0m\n\u001b[0;32m      5\u001b[0m \u001b[0mprint\u001b[0m\u001b[1;33m(\u001b[0m\u001b[0mlen\u001b[0m\u001b[1;33m(\u001b[0m\u001b[0mcontainer_div\u001b[0m\u001b[1;33m)\u001b[0m\u001b[1;33m)\u001b[0m\u001b[1;33m\u001b[0m\u001b[1;33m\u001b[0m\u001b[0m\n",
      "\u001b[1;31mNameError\u001b[0m: name 'page' is not defined"
     ]
    }
   ],
   "source": [
    "req= requests.get(URL + str(page)+'/')\n",
    "soup=BeautifulSoup(req.content,'html.parser')\n",
    "# print(soup.prettify())\n",
    "container_div=soup.find_all('div',class_='panel panel-default')\n",
    "print(len(container_div))\n",
    "qs_link_anchor=each.find('a',class_='questions')\n",
    "qs_link_url=qs_link_anchor.get('href')\n",
    "print(qs_link_url)"
   ]
  },
  {
   "cell_type": "code",
   "execution_count": null,
   "metadata": {},
   "outputs": [],
   "source": [
    "new_URL=f\"{qs_link_url}\"\n",
    "qs_ans_page=requests.get(new_URL)\n",
    "noodles=BeautifulSoup(qs_ans_page.content,'html.parser')\n",
    "print(noodles.prettify())"
   ]
  },
  {
   "cell_type": "code",
   "execution_count": null,
   "metadata": {},
   "outputs": [],
   "source": [
    "question=noodles.find(class_='questions-title').get_text(strip=True).replace('\\n', ' ')\n",
    "print('Question:',question)"
   ]
  },
  {
   "cell_type": "markdown",
   "metadata": {},
   "source": [
    "Checking for the urls content is done here"
   ]
  },
  {
   "cell_type": "code",
   "execution_count": null,
   "metadata": {},
   "outputs": [],
   "source": []
  },
  {
   "cell_type": "markdown",
   "metadata": {},
   "source": [
    "# Main crawler starts herer our target range here is from page 76 to 1434 pages questions "
   ]
  },
  {
   "cell_type": "code",
   "execution_count": null,
   "metadata": {},
   "outputs": [
    {
     "name": "stdout",
     "output_type": "stream",
     "text": [
      "Question: এদিক সেদিক তাকালে একটি চোখের সামনে মনে হয় পোকা জাতীয় কিছু একটা উড়ছে।এখন চোখের ডাক্তার দেখানো সম্ভব নয়।করনীয় কি?\n",
      "Date: August 18, 2020\n",
      "Views: 98\n",
      "Topic: Eye & Vision\n",
      "Answer: \n",
      "Question: আসসালামুআলাইকুম রোগীর নাম হুমায়রা বয়স - সাড়ে ৩ বছর গত দুই দিন ধরে সর্দি জ্বর কাশী, চোখ ভেজা ভেজা লাল হয়ে আছে, কোন ঔষধ খায় নি এখন জ্বর তেমন নেই কিন্তু নাক দিয়ে পানি পড়ছে কাশী হচ্ছে চোখ লাল হয়ে আছে করণীয় কি?\n",
      "Date: August 17, 2020\n",
      "Views: 124\n",
      "Topic: Child Health\n",
      "Answer: \n",
      "Question: আমার স্ত্রীর বয়স ৩০।  গত রাতে তার আংগুল বটিতে গভীরভাবে কাটছে। সাথে সাথে viodin আর savlon cream লাগিয়ে ব্যান্ডেজ করে দিয়েছি। কিন্ত ব্যাথা না কমায় একটি নাপা ট্যাবলেট খেয়েছে রাতে। এখন পর্যন্ত ব্যাথা যায়নি। ব্যাথা কমানোর জন্য কি ওষুধ দিতে পারি? কোন এন্টিবায়োটিক দিতে হবে? উল্লেখ্য তার টিটেনাস এর টিকা দেওয়া আছে। জরুরি ভিত্তিতে জানাবেন ধন্যবাদ।\n",
      "Date: August 17, 2020\n",
      "Views: 110\n",
      "Topic: General Health\n",
      "Answer: \n",
      "Question: যোনিতে এবং এর আশপাশে চুলকায়।  কি ঔষধ ব্যবহার করা যেতে পারে?\n",
      "Date: August 17, 2020\n",
      "Views: 247\n",
      "Topic: Sexual Health\n",
      "Answer: \n",
      "Question: বয়স 7 বছর আজ বিকেলে লোহার শিকের খোঁচা লাগে এখন ব্যাথা নেই কিন্তু রক্ত জমাট বেঁধে আছে। দেখতে সমস্যা নেই। এখন করণীয় কি?\n",
      "Date: August 16, 2020\n",
      "Views: 89\n",
      "Topic: Eye & Vision\n",
      "Answer: \n",
      "Question: চোখের photophobia সমস্যার প্রতিকারে কি করতে পারি?\n",
      "Date: August 16, 2020\n",
      "Views: 109\n",
      "Topic: Eye & Vision\n",
      "Answer: \n",
      "Question: আমি ঠান্ডা কিছু ধরলে, গরমের সময়ও কক্ষ তাপমাত্রারর পানি দিয়ে গোসল করলে হাচি, কাশি ঠাণ্ডা লেগে যায়। এর প্রতিকারে কি করতে পারি?\n",
      "Date: August 16, 2020\n",
      "Views: 95\n",
      "Topic: Fever / Common Cold\n",
      "Answer: \n",
      "Question: ১।আমার প্রতিদিন ১৫-২০টি করে মাথার চুল পড়ে যাচ্ছে। আমার ভিটামিন ডি এর একটু ঘাটতি আছে। চুলের যত্নে কি করতে পারি? ২। আমি সাবান দিয়ে হাত ধুলে হাত গরম হয়ে যায় ও জ্বলে। এর প্রতিকারে কি করতে পারি?\n",
      "Date: August 16, 2020\n",
      "Views: 126\n",
      "Topic: Others\n",
      "Answer: \n",
      "Question: amer mar khub hatu o komor betha hoitache onak din jabot ai khatre ami oner ki treatment korte pari ba ki medicine dite pari...aktu bolle opokrito hotam.\n",
      "Date: August 15, 2020\n",
      "Views: 91\n",
      "Topic: Others\n",
      "Answer: \n",
      "Question: আমার নাম নাজিয়া।আমার ছয় মাস বয়সের এক্টা বাচ্চা আছে।হঠাৎ করে আমার নাক দিয়ে পানি আসতেছে আমি এখন কি করতে পারি\n",
      "Date: August 15, 2020\n",
      "Views: 103\n",
      "Topic: General Health\n",
      "Answer: \n",
      "Question: আমার উয়াইফ কিছুদিন আগে মাজায় ব‍্যাথা পেয়েছে এখনও ব‍্যাথা আছে।কি করতে পারি স‍্যার?\n",
      "Date: August 15, 2020\n",
      "Views: 90\n",
      "Topic: General Health\n",
      "Answer: \n",
      "exception got on question link ->https://app.daktarshab.com/services/ask-a-doctor/16249 \n",
      "Question: ১।আমি রোদে হাটার সময় সানগ্লাস ছাড়া চোখ খুলে দেখতে পারিনা । মাথায় রোদ লাগলে মাথাব্যথা হয়। ২। মোবাইল, টিভি, কম্পিউটার চালালে চোখ দিয়ে পানি পড়ে ও চোখে ব্যথা হয়।\n",
      "Date: August 15, 2020\n",
      "Views: 100\n",
      "Topic: Others\n",
      "Answer: \n",
      "Question: স‍্যর আমি মার্কেটিং এর চাকুরী করি তাই বাইরে বের হতেই হয়। কয়েক মাস যাবত চোখ ও মাথার এক পাশ‍ে ব‍্যাথা হয়,দীর্ঘ সময় মোবাইল টিপলেও এমন হয়। স‍্যার আমি এখন কি করতে পারি??\n",
      "Date: August 15, 2020\n",
      "Views: 91\n",
      "Topic: General Health\n",
      "Answer: \n",
      "Question: MOM SYRUP দিনে দুইবার সকাল ও রাতে খাওয়ার আগে নাকি পরে খেতে হয়?\n",
      "Date: August 14, 2020\n",
      "Views: 86\n",
      "Topic: General Health\n",
      "Answer: \n",
      "Question: আমার ছোট বোনের কাল রাত থেকে চোখ ফুলে গেছে..হাল্কা ব্যাথা এবং চোখ লাল হয়ে গেছে.এমতাবস্থায় কি করনীয়?\n",
      "Date: August 14, 2020\n",
      "Views: 87\n",
      "Topic: ENT\n",
      "Answer: \n",
      "Question: হাতের আঙ্গুলের মাথায়  কি  একটা হয়েছে। যার জন্য হাতের আঙ্গুল ব্যথা করে পুঁজ বের হয়।\n",
      "Date: August 14, 2020\n",
      "Views: 80\n",
      "Topic: General Health\n",
      "Answer: \n",
      "Question: আমার ঠিক-ঠাক ভাবে পেট পরিষ্কার হয় না। যার ফলে খাওয়ার রুচি নেই। মাঝে মধ্যে আবার পেট খারাপ হয়।\n",
      "Date: August 14, 2020\n",
      "Views: 90\n",
      "Topic: General Health\n",
      "Answer: \n",
      "exception got on question link ->https://app.daktarshab.com/services/ask-a-doctor/16236 \n",
      "exception got on question link ->https://app.daktarshab.com/services/ask-a-doctor/16235 \n",
      "Question: আমার বয়স ১৮, ওজন ৫০ কেজি, উচ্চ রক্তচাপ নেই।দুই দিন যাবত আমার মাথা ঘোরাচ্ছে। দাড়ালে মনে হচ্ছে পরে যাবো। কোনো কিছুই খেতে ভালো লাগছে না। বমি হচ্ছে বার বার। শরীর দুর্বল লাগছে। এমতাবস্থায় করনীয় কি?\n",
      "Date: August 13, 2020\n",
      "Views: 109\n",
      "Topic: General Health\n",
      "Answer: \n",
      "Question: বুকের ডান পাশে চিন চিন করে ব্যাথা করে। সবসময় থাকে না যেমন আজকে ব্যাথা লাগতেছে। কি করতে পারি? বয়স ৩২\n",
      "Date: August 13, 2020\n",
      "Views: 103\n",
      "Topic: General Health\n",
      "Answer: \n",
      "Question: গ্লিসারিন সাপোচিটার দেওয়াতে টয়লেট হয়েছে।কিন্তু সমস্যা সমাধান হয়নি।ঘরোয়া টোটকা চলছে।কাজ হচ্ছেনা।জিজ্ঞেস করেছিলেন রক্ত যায় কিনা?রক্ত যায়না।তবে প্রচুর গ্যাস্টিক বেড়েছে বুঝা যাচ্ছে।পায়ু পথে প্রচুর বাতাস বের হয়।প্রচুর ঢেকুর উঠছে।দয়া করে কৌষ্ঠকাঠিন্য কি ঔষধ খেলে স্বাভাবিক হবে বলুন।প্রেসকাইভ করুন প্লিজ।\n",
      "Date: August 13, 2020\n",
      "Views: 105\n",
      "Topic: Men's Health\n",
      "Answer: \n",
      "Question: আমার বয়স ৩২ মাথায় চুলের মধ্যে প্রচুর পরিমানে চুলকায়। করোনার মধ্যে চুল ফেলে দিয়েছিলাম তখন মাথায় গোল চাকা চাকা দাউদের মত মনে হয়। কি করতে পারি জানাবেন। সিলেক্ট   প্লাস শ্যাম্পু ব্যবহার করি।কোন কাজ হয়না।একটু ভালো লাগে।\n",
      "Date: August 13, 2020\n",
      "Views: 91\n",
      "Topic: Men's Health\n",
      "Answer: \n",
      "Question: গ্লিসারিন সাপোসিটার দেওয়ার পর টয়লেট হয়েছে।কিন্তু সমস্যা সমাধান হয়নি।ঘরোয়া টোটকাও চলছে।কিন্তু কাজ হচ্ছেনা।কি ঔষধ খেলে কৌষ্ঠকাঠিন্যের সমস্যা স্বাভাবিক হবে?দয়া করে ঔষধ প্রেসক্রাইব করুন।\n",
      "Date: August 13, 2020\n",
      "Views: 92\n",
      "Topic: Men's Health\n",
      "Answer: \n",
      "Question: সবসময় Zolium-0.5খেলে কোন সমস্যা আছে কিনা জানতে চাই।\n",
      "Date: August 13, 2020\n",
      "Views: 82\n",
      "Topic: Men's Health\n",
      "Answer: \n",
      "Question: আমার বাচ্চার বয়স ৮ মাস ৭ দিন। ২ দিন জর ছিল।নাপা সিরাপ দিয়েছিলাম। গত কাল থেকে জর নেই।কিন্তু আজ থেকে অল্প অল্প লুমতি/ হাম এর মত হাল্কা গোলাপী লাল  দেখা জাচ্ছে। কি করনীয়??  এই সময় bicozin syrup কি দেওয়া জাবে?\n",
      "Date: August 12, 2020\n",
      "Views: 80\n",
      "Topic: Child Health\n",
      "Answer: \n",
      "Question: আমার wife এর খুসখুশে কাসি হয়েছে,,তার জন্য কী ঔষধ খাওয়াবো তাকে,,,কাসির সাথে কোন কফ আসে না শুকনো কাসি,,\n",
      "Date: August 12, 2020\n",
      "Views: 80\n",
      "Topic: Women's Health\n",
      "Answer: \n",
      "Question: My qu for Dr. Rezwana Tabassum anamika mam child specialist... আমার বাচ্চার বয়স ৮ মাস ৭ দিন।।। গত ১০/০৮/২০২০ তারিখ আমি ম্যামএর সাথে কথা বলি।আমার বাচ্চার জর ছিল।গতকাল থেকে আর জর আসেনাই। কিন্তু আজ অর গায়ে লুমতি / হাম এর মত লাল লাল অল্প দেখা জাচ্ছে।    ১. এখন কি করনিয়? ২. আর ম্যাম Bicozin syrup দিয়েছিলেন। এই সিরাপ কি হাম এর সময় খাওয়াতে পারব?   #৩য় ডোজ  টিকা টা বাকি ছিল। তাহলে কি লুমতি / হাম ভাল হলেই দিতে পারব?? ধন্যবাদ।\n",
      "Date: August 12, 2020\n",
      "Views: 79\n",
      "Topic: Child Health\n",
      "Answer: \n",
      "Question: আমার হাই প্রেসার,,,আমি অনেক দিন আগে দূর্বলাতার কারনে রক্তের স্যালাইন নিয়েছিলাম,,তারপর থেকেই আমার প্রেসার,,,আমি এক ডাক্তারের পরামর্শ নিয়ে ডিলিটা ঔষধ সেবন করতেছি,,কিন্তু আমার প্রেসার কন্ট্রল হচ্ছে না,,আমি এখন আর কি করতে পারি\n",
      "Date: August 12, 2020\n",
      "Views: 79\n",
      "Topic: Women's Health\n",
      "Answer: \n",
      "exception got on question link ->https://app.daktarshab.com/services/ask-a-doctor/16213 \n"
     ]
    }
   ],
   "source": [
    "load_issue_page=[]\n",
    "load_issue_question=[]\n",
    "for page in range(76,1434):\n",
    "  try:\n",
    "    req= requests.get(URL + str(page)+'/')\n",
    "    soup=BeautifulSoup(req.content,'html.parser')\n",
    "    # print(soup.prettify())\n",
    "    container_div=soup.find_all('div',class_='panel panel-default')\n",
    "    # print(len(container_div))\n",
    "    for each in container_div:\n",
    "      qs_link_anchor=each.find('a',class_='questions')\n",
    "      qs_link_url=qs_link_anchor.get('href')\n",
    "      # print(qs_link_url)\n",
    "      # new_URL=\"https://app.daktarshab.com/services/ask-a-doctor/17916\"\n",
    "      try:\n",
    "        new_URL=f\"{qs_link_url}\"\n",
    "        qs_ans_page=requests.get(new_URL)\n",
    "        noodles=BeautifulSoup(qs_ans_page.content,'html.parser')\n",
    "        # print(noodles.prettify())\n",
    "        # Question Extracting\n",
    "        question=noodles.find(class_='questions-title').get_text(strip=True).replace('\\n', ' ')\n",
    "        print('Question:',question)\n",
    "\n",
    "        # Date extracting\n",
    "        date_span_tag_catch=noodles.find('span',class_='date')\n",
    "        date_container_tag=date_span_tag_catch.parent\n",
    "        date=date_container_tag.get_text(strip=True).replace('\\n', ' ')\n",
    "        print('Date:', date)\n",
    "\n",
    "        # Views number extracting\n",
    "        view_span_tag_catch=noodles.find('span',class_='view')\n",
    "        view_container_tag=view_span_tag_catch.parent\n",
    "\n",
    "        view_number=view_container_tag.get_text(strip=True).replace('\\n', ' ')\n",
    "        print('Views:',view_number)\n",
    "\n",
    "\n",
    "        # Topic Extracting\n",
    "        topic_tag_catch=noodles.find('a',class_='tag')\n",
    "        topic=topic_tag_catch.get_text(strip=True).replace('\\n', ' ')\n",
    "        print('Topic:',topic)\n",
    "\n",
    "        # #********* previous Answer extracting ***************\n",
    "        # ans_tag_div_catching=noodles.find('div',class_='panel-body')\n",
    "        # ans_info_tags=ans_tag_div_catching.find('div',class_='ans-info')\n",
    "        # ans_p_tags=ans_info_tags.find_all_next('p')\n",
    "        # answer=''\n",
    "        # for each in ans_p_tags:\n",
    "        #   if each.find_parent('div',class_='panel-body'):\n",
    "        #     if each.find_parent('div',class_='info-dis'):\n",
    "        #       pass\n",
    "        #     else:\n",
    "        #       answer=each.get_text(strip=True).replace('\\n', ' ')\n",
    "                \n",
    "        #   else:\n",
    "        #     break\n",
    "        # print('Answer:',answer)\n",
    "        # ********************************************************\n",
    "        #******** New Answer extracting **************************\n",
    "        ans_tag_div_catching=noodles.find('div',class_='panel-body')\n",
    "        # ans_info_tags=ans_tag_div_catching.find('div',class_='ans-info')\n",
    "        # ans_p_tags=ans_info_tags.find_all_next('p')\n",
    "        ans_p_tags_new=ans_tag_div_catching.find_all_next('p')\n",
    "        answer=''\n",
    "        for each in ans_p_tags_new:\n",
    "          if each.find_parent('div',class_='panel-body'):\n",
    "            if each.find_previous_siblings('div',class_='ans-info'):\n",
    "              answer=each.get_text(strip=True).replace('\\n', ' ')\n",
    "            else:\n",
    "              continue\n",
    "                \n",
    "          else:\n",
    "            break\n",
    "        print('Answer:',answer)\n",
    "        csv_writer.writerow([question,date,view_number,topic,answer])\n",
    "\n",
    "      except:\n",
    "        load_issue_question.append(new_URL)\n",
    "        print(\"exception got on question link ->{} \".format(new_URL))\n",
    "        excep_csv_writer.writerow([load_issue_question])\n",
    "        continue\n",
    "\n",
    "  except:\n",
    "    load_issue_page.append(page)\n",
    "    print(\"exception on page -> {} \".format(page))\n",
    "    excep_csv_writer.writerow([load_issue_page])\n",
    "    time.sleep(20)\n",
    "    continue\n",
    "    print(page)\n",
    "csv_file.close()\n",
    "csv_writer_2.close()"
   ]
  },
  {
   "cell_type": "markdown",
   "metadata": {},
   "source": [
    "# lenght of loss or exceptiong got question links and pages"
   ]
  },
  {
   "cell_type": "code",
   "execution_count": null,
   "metadata": {},
   "outputs": [],
   "source": [
    "print(len(load_issue_page))\n",
    "print(len(load_issue_question))\n"
   ]
  },
  {
   "cell_type": "code",
   "execution_count": null,
   "metadata": {},
   "outputs": [],
   "source": []
  },
  {
   "cell_type": "code",
   "execution_count": null,
   "metadata": {},
   "outputs": [],
   "source": []
  },
  {
   "cell_type": "code",
   "execution_count": null,
   "metadata": {},
   "outputs": [],
   "source": []
  },
  {
   "cell_type": "code",
   "execution_count": null,
   "metadata": {},
   "outputs": [],
   "source": []
  },
  {
   "cell_type": "code",
   "execution_count": null,
   "metadata": {},
   "outputs": [],
   "source": []
  },
  {
   "cell_type": "code",
   "execution_count": null,
   "metadata": {},
   "outputs": [],
   "source": [
    "# csv_file_3 = open('Daktar_vai_non_executed_pages_new.csv', 'w', encoding=\"utf-8\")\n",
    "# csv_writer_3 = csv.writer(csv_file_3)\n",
    "# csv_writer_3.writerow(['page_no'])"
   ]
  },
  {
   "cell_type": "code",
   "execution_count": null,
   "metadata": {},
   "outputs": [],
   "source": [
    "# for each in load_issue_page:\n",
    "#     csv_writer_3.writerow([load_issue_page[each]])\n"
   ]
  },
  {
   "cell_type": "code",
   "execution_count": null,
   "metadata": {},
   "outputs": [],
   "source": []
  }
 ],
 "metadata": {
  "kernelspec": {
   "display_name": "Python 3",
   "language": "python",
   "name": "python3"
  },
  "language_info": {
   "codemirror_mode": {
    "name": "ipython",
    "version": 3
   },
   "file_extension": ".py",
   "mimetype": "text/x-python",
   "name": "python",
   "nbconvert_exporter": "python",
   "pygments_lexer": "ipython3",
   "version": "3.7.3"
  }
 },
 "nbformat": 4,
 "nbformat_minor": 2
}
